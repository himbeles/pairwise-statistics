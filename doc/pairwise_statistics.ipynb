{
 "cells": [
  {
   "cell_type": "code",
   "execution_count": 1,
   "metadata": {},
   "outputs": [],
   "source": [
    "import numpy as np\n",
    "from pairwise_statistics import StatisticsAggregator"
   ]
  },
  {
   "cell_type": "code",
   "execution_count": 2,
   "metadata": {},
   "outputs": [
    {
     "name": "stdout",
     "output_type": "stream",
     "text": [
      "n 7\n",
      "mean 3.2857142857142856\n",
      "var 3.0612244897959187\n"
     ]
    }
   ],
   "source": [
    "# biased or unbiased estimator\n",
    "ddof=0\n",
    "\n",
    "# combine statistics of array a and b \n",
    "array_a = np.array([1,3,5,6])\n",
    "array_b = np.array([1,3,4])\n",
    "n_a = len(array_a)\n",
    "n_b = len(array_b)\n",
    "mean_a = np.mean(array_a)\n",
    "mean_b = np.mean(array_b)\n",
    "var_a = np.var(array_a, ddof=ddof)\n",
    "var_b = np.var(array_b, ddof=ddof)\n",
    "\n",
    "# result should be n, variance and mean of concatenation of array a&b\n",
    "array_c = np.hstack([array_a,array_b])\n",
    "n_c = len(array_c)\n",
    "mean_c = np.mean(array_c)\n",
    "var_c = np.var(array_c, ddof=ddof)\n",
    "print('n', n_c)\n",
    "print('mean', mean_c)\n",
    "print('var', var_c)"
   ]
  },
  {
   "cell_type": "code",
   "execution_count": 3,
   "metadata": {},
   "outputs": [],
   "source": [
    "sa = StatisticsAggregator(n_a, mean_a, var_a, ddof=ddof)\n",
    "sa.add(n_b, mean_b, var_b)\n",
    "\n",
    "assert sa.n == n_c\n",
    "assert np.isclose(sa.mean, mean_c)\n",
    "assert np.isclose(sa.var, var_c)"
   ]
  }
 ],
 "metadata": {
  "kernelspec": {
   "display_name": "Python 3.10.4 64-bit",
   "language": "python",
   "name": "python3"
  },
  "language_info": {
   "codemirror_mode": {
    "name": "ipython",
    "version": 3
   },
   "file_extension": ".py",
   "mimetype": "text/x-python",
   "name": "python",
   "nbconvert_exporter": "python",
   "pygments_lexer": "ipython3",
   "version": "3.10.4"
  },
  "orig_nbformat": 4,
  "vscode": {
   "interpreter": {
    "hash": "aee8b7b246df8f9039afb4144a1f6fd8d2ca17a180786b69acc140d282b71a49"
   }
  }
 },
 "nbformat": 4,
 "nbformat_minor": 2
}
