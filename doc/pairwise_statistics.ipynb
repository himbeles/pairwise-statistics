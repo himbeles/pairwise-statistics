{
 "cells": [
  {
   "cell_type": "code",
   "execution_count": 1,
   "metadata": {},
   "outputs": [],
   "source": [
    "import numpy as np\n",
    "from pairwise_statistics import StatisticsAggregator"
   ]
  },
  {
   "cell_type": "code",
   "execution_count": 3,
   "metadata": {},
   "outputs": [],
   "source": [
    "# biased or unbiased estimator\n",
    "ddof=0\n",
    "\n",
    "# combine statistics of array a, b, c\n",
    "array_a = np.array([1, 3, 5, 6])\n",
    "array_b = np.array([1, 3, 4])\n",
    "array_c = np.array([6, 3])\n",
    "n_a = len(array_a)\n",
    "n_b = len(array_b)\n",
    "n_c = len(array_c)\n",
    "mean_a = np.mean(array_a)\n",
    "mean_b = np.mean(array_b)\n",
    "mean_c = np.mean(array_c)\n",
    "var_a = np.var(array_a, ddof=ddof)\n",
    "var_b = np.var(array_b, ddof=ddof)\n",
    "var_c = np.var(array_c, ddof=ddof)\n",
    "\n",
    "sa = StatisticsAggregator(ddof=ddof, use_robust_mean=True)\n",
    "sa.add(n_a, mean_a, var_a)\n",
    "sa.add(n_b, mean_b, var_b)\n",
    "sa.add(n_c, mean_c, var_c)\n",
    "\n",
    "# result should be variance and mean of concatenated, total array\n",
    "array_d = np.hstack([array_a, array_b, array_c])\n",
    "n_d = len(array_d)\n",
    "mean_d = np.mean(array_d)\n",
    "var_d = np.var(array_d, ddof=ddof)\n",
    "\n",
    "assert sa.n == n_d\n",
    "assert np.isclose(sa.mean, mean_d)  # type: ignore\n",
    "assert np.isclose(sa.var, var_d)  # type: ignore"
   ]
  }
 ],
 "metadata": {
  "kernelspec": {
   "display_name": "Python 3.11.0 ('.venv': venv)",
   "language": "python",
   "name": "python3"
  },
  "language_info": {
   "codemirror_mode": {
    "name": "ipython",
    "version": 3
   },
   "file_extension": ".py",
   "mimetype": "text/x-python",
   "name": "python",
   "nbconvert_exporter": "python",
   "pygments_lexer": "ipython3",
   "version": "3.11.0"
  },
  "orig_nbformat": 4,
  "vscode": {
   "interpreter": {
    "hash": "64df53c73c9bd40157fd71995aeebd52f4a44de4f1a5b1b1a90213ce47e132c4"
   }
  }
 },
 "nbformat": 4,
 "nbformat_minor": 2
}
